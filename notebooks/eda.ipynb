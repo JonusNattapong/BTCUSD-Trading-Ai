{
 "cells": [
  {
   "cell_type": "markdown",
   "id": "a8628f0a",
   "metadata": {},
   "source": [
    "# BTCUSD Trading AI - Exploratory Data Analysis\n",
    "\n",
    "This notebook contains exploratory data analysis for the BTCUSD trading AI project."
   ]
  },
  {
   "cell_type": "code",
   "execution_count": null,
   "id": "2fd71338",
   "metadata": {},
   "outputs": [],
   "source": [
    "import pandas as pd\n",
    "import numpy as np\n",
    "import matplotlib.pyplot as plt\n",
    "import seaborn as sns\n",
    "from sklearn.preprocessing import MinMaxScaler\n",
    "from sklearn.model_selection import train_test_split\n",
    "import tensorflow as tf\n",
    "from tensorflow.keras.models import Sequential\n",
    "from tensorflow.keras.layers import LSTM, Dense, Dropout\n",
    "\n",
    "# Set style for plots\n",
    "plt.style.use('default')\n",
    "sns.set_palette('husl')"
   ]
  },
  {
   "cell_type": "code",
   "execution_count": null,
   "id": "b2cda184",
   "metadata": {},
   "outputs": [],
   "source": [
    "# Load data\n",
    "df = pd.read_csv('../data/btcusd_with_indicators.csv', index_col=0, parse_dates=True)\n",
    "df.head()"
   ]
  },
  {
   "cell_type": "code",
   "execution_count": null,
   "id": "5a7df00b",
   "metadata": {},
   "outputs": [],
   "source": [
    "# Basic statistics\n",
    "df.describe()"
   ]
  },
  {
   "cell_type": "code",
   "execution_count": null,
   "id": "b1088158",
   "metadata": {},
   "outputs": [],
   "source": [
    "# Plot price over time\n",
    "plt.figure(figsize=(15, 8))\n",
    "plt.plot(df.index, df['Close'])\n",
    "plt.title('BTCUSD Price Over Time')\n",
    "plt.xlabel('Date')\n",
    "plt.ylabel('Price (USD)')\n",
    "plt.grid(True)\n",
    "plt.show()"
   ]
  },
  {
   "cell_type": "code",
   "execution_count": null,
   "id": "af990a93",
   "metadata": {},
   "outputs": [],
   "source": [
    "# Correlation heatmap\n",
    "plt.figure(figsize=(12, 10))\n",
    "correlation_matrix = df.corr()\n",
    "sns.heatmap(correlation_matrix, annot=True, cmap='coolwarm', fmt='.2f')\n",
    "plt.title('Feature Correlation Matrix')\n",
    "plt.show()"
   ]
  },
  {
   "cell_type": "code",
   "execution_count": null,
   "id": "550f5b9d",
   "metadata": {},
   "outputs": [],
   "source": [
    "# Distribution of returns\n",
    "df['Returns'] = df['Close'].pct_change()\n",
    "plt.figure(figsize=(12, 6))\n",
    "plt.subplot(1, 2, 1)\n",
    "df['Returns'].hist(bins=50)\n",
    "plt.title('Distribution of Daily Returns')\n",
    "plt.xlabel('Return')\n",
    "plt.ylabel('Frequency')\n",
    "\n",
    "plt.subplot(1, 2, 2)\n",
    "df['Returns'].plot(kind='box')\n",
    "plt.title('Box Plot of Daily Returns')\n",
    "plt.show()"
   ]
  }
 ],
 "metadata": {
  "language_info": {
   "name": "python"
  }
 },
 "nbformat": 4,
 "nbformat_minor": 5
}
